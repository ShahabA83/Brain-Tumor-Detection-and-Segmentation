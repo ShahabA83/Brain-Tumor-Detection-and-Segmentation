{
 "cells": [
  {
   "cell_type": "code",
   "execution_count": 1,
   "id": "5e679ed2-5ee0-421e-a89b-48f88590e99d",
   "metadata": {},
   "outputs": [
    {
     "name": "stdout",
     "output_type": "stream",
     "text": [
      "Segmentation Models: using `keras` framework.\n"
     ]
    }
   ],
   "source": [
    "import nibabel as nib\n",
    "import numpy as np\n",
    "import cv2\n",
    "import matplotlib.pyplot as plt\n",
    "from tensorflow.keras.models import load_model\n",
    "from segmentation_models import get_preprocessing"
   ]
  },
  {
   "cell_type": "code",
   "execution_count": 2,
   "id": "bc3a4943-f5e3-4564-8d43-e05f1ed42abe",
   "metadata": {},
   "outputs": [],
   "source": [
    "# بارگذاری مدل آموزش‌دیده\n",
    "model = load_model('C:/Users/Shahab/Downloads/Jupyter/Brain-Tumor/Model/tumor_segmentation_model2.h5', compile=False)\n",
    "\n",
    "# تابع پیش‌پردازش\n",
    "preprocess_input = get_preprocessing('resnet34')"
   ]
  },
  {
   "cell_type": "markdown",
   "id": "3338aa4d-3134-4aef-b9e4-b7915e72dc4b",
   "metadata": {},
   "source": [
    "# حجم سه بعدی"
   ]
  },
  {
   "cell_type": "code",
   "execution_count": 16,
   "id": "5be51bfc-4ddd-4773-9e6f-4aecf553d40f",
   "metadata": {},
   "outputs": [],
   "source": [
    "# مسیر فایل MRI سه‌بعدی (مثلاً .nii.gz)\n",
    "nii_path = 'BraTS20_Training_055/BraTS20_Training_055_flair.nii'"
   ]
  },
  {
   "cell_type": "code",
   "execution_count": 17,
   "id": "fe838115-4ee9-4afd-9d7d-9f7404c216ab",
   "metadata": {
    "scrolled": true
   },
   "outputs": [
    {
     "data": {
      "text/plain": [
       "memmap([[[0., 0., 0., ..., 0., 0., 0.],\n",
       "         [0., 0., 0., ..., 0., 0., 0.],\n",
       "         [0., 0., 0., ..., 0., 0., 0.],\n",
       "         ...,\n",
       "         [0., 0., 0., ..., 0., 0., 0.],\n",
       "         [0., 0., 0., ..., 0., 0., 0.],\n",
       "         [0., 0., 0., ..., 0., 0., 0.]],\n",
       "\n",
       "        [[0., 0., 0., ..., 0., 0., 0.],\n",
       "         [0., 0., 0., ..., 0., 0., 0.],\n",
       "         [0., 0., 0., ..., 0., 0., 0.],\n",
       "         ...,\n",
       "         [0., 0., 0., ..., 0., 0., 0.],\n",
       "         [0., 0., 0., ..., 0., 0., 0.],\n",
       "         [0., 0., 0., ..., 0., 0., 0.]],\n",
       "\n",
       "        [[0., 0., 0., ..., 0., 0., 0.],\n",
       "         [0., 0., 0., ..., 0., 0., 0.],\n",
       "         [0., 0., 0., ..., 0., 0., 0.],\n",
       "         ...,\n",
       "         [0., 0., 0., ..., 0., 0., 0.],\n",
       "         [0., 0., 0., ..., 0., 0., 0.],\n",
       "         [0., 0., 0., ..., 0., 0., 0.]],\n",
       "\n",
       "        ...,\n",
       "\n",
       "        [[0., 0., 0., ..., 0., 0., 0.],\n",
       "         [0., 0., 0., ..., 0., 0., 0.],\n",
       "         [0., 0., 0., ..., 0., 0., 0.],\n",
       "         ...,\n",
       "         [0., 0., 0., ..., 0., 0., 0.],\n",
       "         [0., 0., 0., ..., 0., 0., 0.],\n",
       "         [0., 0., 0., ..., 0., 0., 0.]],\n",
       "\n",
       "        [[0., 0., 0., ..., 0., 0., 0.],\n",
       "         [0., 0., 0., ..., 0., 0., 0.],\n",
       "         [0., 0., 0., ..., 0., 0., 0.],\n",
       "         ...,\n",
       "         [0., 0., 0., ..., 0., 0., 0.],\n",
       "         [0., 0., 0., ..., 0., 0., 0.],\n",
       "         [0., 0., 0., ..., 0., 0., 0.]],\n",
       "\n",
       "        [[0., 0., 0., ..., 0., 0., 0.],\n",
       "         [0., 0., 0., ..., 0., 0., 0.],\n",
       "         [0., 0., 0., ..., 0., 0., 0.],\n",
       "         ...,\n",
       "         [0., 0., 0., ..., 0., 0., 0.],\n",
       "         [0., 0., 0., ..., 0., 0., 0.],\n",
       "         [0., 0., 0., ..., 0., 0., 0.]]])"
      ]
     },
     "execution_count": 17,
     "metadata": {},
     "output_type": "execute_result"
    }
   ],
   "source": [
    "# بارگذاری فایل\n",
    "img_obj = nib.load(nii_path)\n",
    "volume = img_obj.get_fdata()  # shape: (H, W, D)\n",
    "volume"
   ]
  },
  {
   "cell_type": "code",
   "execution_count": 18,
   "id": "286f69c0-37fe-4695-bbce-370accfcc593",
   "metadata": {},
   "outputs": [],
   "source": [
    "# خروجی نهایی ماسک سگمنت شده\n",
    "segmented_volume = np.zeros(volume.shape)"
   ]
  },
  {
   "cell_type": "code",
   "execution_count": 19,
   "id": "10034265-a7dc-4295-ab34-8c7bf966b44c",
   "metadata": {
    "scrolled": true
   },
   "outputs": [
    {
     "name": "stdout",
     "output_type": "stream",
     "text": [
      "1/1 [==============================] - 1s 1s/step\n",
      "1/1 [==============================] - 0s 70ms/step\n",
      "1/1 [==============================] - 0s 89ms/step\n",
      "1/1 [==============================] - 0s 82ms/step\n",
      "1/1 [==============================] - 0s 73ms/step\n",
      "1/1 [==============================] - 0s 77ms/step\n",
      "1/1 [==============================] - 0s 80ms/step\n",
      "1/1 [==============================] - 0s 64ms/step\n",
      "1/1 [==============================] - 0s 60ms/step\n",
      "1/1 [==============================] - 0s 77ms/step\n",
      "1/1 [==============================] - 0s 60ms/step\n",
      "1/1 [==============================] - 0s 68ms/step\n",
      "1/1 [==============================] - 0s 64ms/step\n",
      "1/1 [==============================] - 0s 63ms/step\n",
      "1/1 [==============================] - 0s 70ms/step\n",
      "1/1 [==============================] - 0s 73ms/step\n",
      "1/1 [==============================] - 0s 86ms/step\n",
      "1/1 [==============================] - 0s 84ms/step\n",
      "1/1 [==============================] - 0s 78ms/step\n",
      "1/1 [==============================] - 0s 71ms/step\n",
      "1/1 [==============================] - 0s 83ms/step\n",
      "1/1 [==============================] - 0s 72ms/step\n",
      "1/1 [==============================] - 0s 75ms/step\n",
      "1/1 [==============================] - 0s 68ms/step\n",
      "1/1 [==============================] - 0s 66ms/step\n",
      "1/1 [==============================] - 0s 63ms/step\n",
      "1/1 [==============================] - 0s 60ms/step\n",
      "1/1 [==============================] - 0s 81ms/step\n",
      "1/1 [==============================] - 0s 77ms/step\n",
      "1/1 [==============================] - 0s 64ms/step\n",
      "1/1 [==============================] - 0s 71ms/step\n",
      "1/1 [==============================] - 0s 81ms/step\n",
      "1/1 [==============================] - 0s 79ms/step\n",
      "1/1 [==============================] - 0s 65ms/step\n",
      "1/1 [==============================] - 0s 72ms/step\n",
      "1/1 [==============================] - 0s 71ms/step\n",
      "1/1 [==============================] - 0s 67ms/step\n",
      "1/1 [==============================] - 0s 69ms/step\n",
      "1/1 [==============================] - 0s 66ms/step\n",
      "1/1 [==============================] - 0s 66ms/step\n",
      "1/1 [==============================] - 0s 70ms/step\n",
      "1/1 [==============================] - 0s 70ms/step\n",
      "1/1 [==============================] - 0s 62ms/step\n",
      "1/1 [==============================] - 0s 61ms/step\n",
      "1/1 [==============================] - 0s 60ms/step\n",
      "1/1 [==============================] - 0s 60ms/step\n",
      "1/1 [==============================] - 0s 61ms/step\n",
      "1/1 [==============================] - 0s 61ms/step\n",
      "1/1 [==============================] - 0s 63ms/step\n",
      "1/1 [==============================] - 0s 78ms/step\n",
      "1/1 [==============================] - 0s 59ms/step\n",
      "1/1 [==============================] - 0s 69ms/step\n",
      "1/1 [==============================] - 0s 72ms/step\n",
      "1/1 [==============================] - 0s 62ms/step\n",
      "1/1 [==============================] - 0s 61ms/step\n",
      "1/1 [==============================] - 0s 62ms/step\n",
      "1/1 [==============================] - 0s 61ms/step\n",
      "1/1 [==============================] - 0s 54ms/step\n",
      "1/1 [==============================] - 0s 51ms/step\n",
      "1/1 [==============================] - 0s 62ms/step\n",
      "1/1 [==============================] - 0s 62ms/step\n",
      "1/1 [==============================] - 0s 63ms/step\n",
      "1/1 [==============================] - 0s 124ms/step\n",
      "1/1 [==============================] - 0s 58ms/step\n",
      "1/1 [==============================] - 0s 62ms/step\n",
      "1/1 [==============================] - 0s 62ms/step\n",
      "1/1 [==============================] - 0s 69ms/step\n",
      "1/1 [==============================] - 0s 62ms/step\n",
      "1/1 [==============================] - 0s 63ms/step\n",
      "1/1 [==============================] - 0s 77ms/step\n",
      "1/1 [==============================] - 0s 77ms/step\n",
      "1/1 [==============================] - 0s 76ms/step\n",
      "1/1 [==============================] - 0s 66ms/step\n",
      "1/1 [==============================] - 0s 71ms/step\n",
      "1/1 [==============================] - 0s 77ms/step\n",
      "1/1 [==============================] - 0s 79ms/step\n",
      "1/1 [==============================] - 0s 66ms/step\n",
      "1/1 [==============================] - 0s 72ms/step\n",
      "1/1 [==============================] - 0s 80ms/step\n",
      "1/1 [==============================] - 0s 84ms/step\n",
      "1/1 [==============================] - 0s 68ms/step\n",
      "1/1 [==============================] - 0s 59ms/step\n",
      "1/1 [==============================] - 0s 52ms/step\n",
      "1/1 [==============================] - 0s 65ms/step\n",
      "1/1 [==============================] - 0s 71ms/step\n",
      "1/1 [==============================] - 0s 72ms/step\n",
      "1/1 [==============================] - 0s 61ms/step\n",
      "1/1 [==============================] - 0s 78ms/step\n",
      "1/1 [==============================] - 0s 71ms/step\n",
      "1/1 [==============================] - 0s 68ms/step\n",
      "1/1 [==============================] - 0s 67ms/step\n",
      "1/1 [==============================] - 0s 55ms/step\n",
      "1/1 [==============================] - 0s 66ms/step\n",
      "1/1 [==============================] - 0s 75ms/step\n",
      "1/1 [==============================] - 0s 83ms/step\n",
      "1/1 [==============================] - 0s 73ms/step\n",
      "1/1 [==============================] - 0s 67ms/step\n",
      "1/1 [==============================] - 0s 71ms/step\n",
      "1/1 [==============================] - 0s 70ms/step\n",
      "1/1 [==============================] - 0s 73ms/step\n",
      "1/1 [==============================] - 0s 65ms/step\n",
      "1/1 [==============================] - 0s 67ms/step\n",
      "1/1 [==============================] - 0s 73ms/step\n",
      "1/1 [==============================] - 0s 66ms/step\n",
      "1/1 [==============================] - 0s 68ms/step\n",
      "1/1 [==============================] - 0s 72ms/step\n",
      "1/1 [==============================] - 0s 64ms/step\n",
      "1/1 [==============================] - 0s 72ms/step\n",
      "1/1 [==============================] - 0s 73ms/step\n",
      "1/1 [==============================] - 0s 71ms/step\n",
      "1/1 [==============================] - 0s 71ms/step\n",
      "1/1 [==============================] - 0s 65ms/step\n",
      "1/1 [==============================] - 0s 71ms/step\n",
      "1/1 [==============================] - 0s 71ms/step\n",
      "1/1 [==============================] - 0s 58ms/step\n",
      "1/1 [==============================] - 0s 72ms/step\n",
      "1/1 [==============================] - 0s 68ms/step\n",
      "1/1 [==============================] - 0s 70ms/step\n",
      "1/1 [==============================] - 0s 69ms/step\n",
      "1/1 [==============================] - 0s 69ms/step\n",
      "1/1 [==============================] - 0s 72ms/step\n",
      "1/1 [==============================] - 0s 72ms/step\n",
      "1/1 [==============================] - 0s 68ms/step\n",
      "1/1 [==============================] - 0s 68ms/step\n",
      "1/1 [==============================] - 0s 74ms/step\n",
      "1/1 [==============================] - 0s 77ms/step\n",
      "1/1 [==============================] - 0s 69ms/step\n",
      "1/1 [==============================] - 0s 81ms/step\n",
      "1/1 [==============================] - 0s 79ms/step\n",
      "1/1 [==============================] - 0s 72ms/step\n",
      "1/1 [==============================] - 0s 85ms/step\n",
      "1/1 [==============================] - 0s 77ms/step\n",
      "1/1 [==============================] - 0s 188ms/step\n",
      "1/1 [==============================] - 0s 69ms/step\n",
      "1/1 [==============================] - 0s 74ms/step\n",
      "1/1 [==============================] - 0s 77ms/step\n",
      "1/1 [==============================] - 0s 130ms/step\n",
      "1/1 [==============================] - 0s 90ms/step\n",
      "1/1 [==============================] - 0s 63ms/step\n",
      "1/1 [==============================] - 0s 77ms/step\n",
      "1/1 [==============================] - 0s 75ms/step\n",
      "1/1 [==============================] - 0s 71ms/step\n",
      "1/1 [==============================] - 0s 68ms/step\n",
      "1/1 [==============================] - 0s 67ms/step\n",
      "1/1 [==============================] - 0s 75ms/step\n",
      "1/1 [==============================] - 0s 81ms/step\n",
      "1/1 [==============================] - 0s 71ms/step\n",
      "1/1 [==============================] - 0s 67ms/step\n",
      "1/1 [==============================] - 0s 59ms/step\n",
      "1/1 [==============================] - 0s 61ms/step\n",
      "1/1 [==============================] - 0s 58ms/step\n",
      "1/1 [==============================] - 0s 73ms/step\n",
      "1/1 [==============================] - 0s 78ms/step\n",
      "1/1 [==============================] - 0s 69ms/step\n",
      "1/1 [==============================] - 0s 56ms/step\n"
     ]
    }
   ],
   "source": [
    "for i in range(volume.shape[2]):  # برای هر اسلایس در عمق\n",
    "    slice_ = volume[:, :, i]\n",
    "    slice_resized = cv2.resize(slice_, (128, 128))\n",
    "    slice_rgb = np.stack([slice_resized]*3, axis=-1)  # (128,128,3)\n",
    "    slice_rgb = preprocess_input(slice_rgb)\n",
    "    input_tensor = np.expand_dims(slice_rgb, axis=0)  # (1,128,128,3)\n",
    "\n",
    "    # پیش‌بینی\n",
    "    pred = model.predict(input_tensor)[0, :, :, 0]\n",
    "    mask = (pred > 0.5).astype(np.uint8)\n",
    "    mask_resized = cv2.resize(mask, (slice_.shape[1], slice_.shape[0]))  # بازگشت به اندازه اصلی\n",
    "\n",
    "    segmented_volume[:, :, i] = mask_resized"
   ]
  },
  {
   "cell_type": "code",
   "execution_count": 20,
   "id": "b7a5a48f-a1db-4422-b537-e987d4404cda",
   "metadata": {},
   "outputs": [
    {
     "data": {
      "image/png": "[encoded data removed]",
      "text/plain": [
       "<Figure size 1200x500 with 2 Axes>"
      ]
     },
     "metadata": {},
     "output_type": "display_data"
    }
   ],
   "source": [
    "# نمایش یک اسلایس به دلخواه\n",
    "plt.figure(figsize=(12,5))\n",
    "plt.subplot(1,2,1)\n",
    "plt.title('Original Slice')\n",
    "plt.imshow(volume[:, :, volume.shape[2]//2], cmap='gray')\n",
    "\n",
    "plt.subplot(1,2,2)\n",
    "plt.title('Segmented Mask')\n",
    "plt.imshow(segmented_volume[:, :, volume.shape[2]//2], cmap='gray')\n",
    "plt.show()"
   ]
  },
  {
   "cell_type": "markdown",
   "id": "e1bc88c4-0a36-4ba5-bd89-4a3d1bbf3f5e",
   "metadata": {},
   "source": [
    "# ارزیابی"
   ]
  },
  {
   "cell_type": "code",
   "execution_count": 28,
   "id": "e78cab23-1bad-4776-8fd0-9d63edc4a2f3",
   "metadata": {},
   "outputs": [],
   "source": [
    "import nibabel as nib\n",
    "import numpy as np\n",
    "\n",
    "# مسیر فایل سگمنت اصلی\n",
    "seg_path = 'BraTS20_Training_055/BraTS20_Training_055_seg.nii'\n",
    "\n",
    "# بارگذاری فایل\n",
    "seg_img = nib.load(seg_path)\n",
    "seg_data = seg_img.get_fdata()"
   ]
  },
  {
   "cell_type": "code",
   "execution_count": 45,
   "id": "90857095-eab6-4403-8a48-25feb73e4f78",
   "metadata": {},
   "outputs": [],
   "source": [
    "tumor_mask = seg_data > 0 "
   ]
  },
  {
   "cell_type": "code",
   "execution_count": 46,
   "id": "bdb86c4d-ecde-4027-bc44-392f16610daa",
   "metadata": {},
   "outputs": [],
   "source": [
    "num_voxels = np.sum(tumor_mask)"
   ]
  },
  {
   "cell_type": "code",
   "execution_count": 47,
   "id": "59857786-4d7c-4161-9ddc-4764ac638b61",
   "metadata": {},
   "outputs": [],
   "source": [
    "# گرفتن اندازه وکسل‌ها از affine\n",
    "voxel_sizes = np.abs(seg_img.header.get_zooms())  # (x, y, z) اندازه هر وکسل برحسب mm\n",
    "voxel_volume = voxel_sizes[0] * voxel_sizes[1] * voxel_sizes[2]  # mm³"
   ]
  },
  {
   "cell_type": "code",
   "execution_count": 48,
   "id": "54e5ed93-0ab9-48a2-992c-4e1213316877",
   "metadata": {},
   "outputs": [],
   "source": [
    "tumor_volume_mm3 = num_voxels * voxel_volume\n",
    "tumor_volume_cm3 = tumor_volume_mm3 / 1000  # به cm³"
   ]
  },
  {
   "cell_type": "code",
   "execution_count": 49,
   "id": "f03470be-a798-4127-843e-bc0a111a8e05",
   "metadata": {},
   "outputs": [
    {
     "name": "stdout",
     "output_type": "stream",
     "text": [
      "تعداد پیکسل‌های تومور: 118394\n",
      "حجم تومور: 118394.00 mm³\n",
      "حجم تومور: 118.39 cm³\n"
     ]
    }
   ],
   "source": [
    "print(f\"تعداد پیکسل‌های تومور: {num_voxels}\")\n",
    "print(f\"حجم تومور: {tumor_volume_mm3:.2f} mm³\")\n",
    "print(f\"حجم تومور: {tumor_volume_cm3:.2f} cm³\")"
   ]
  },
  {
   "cell_type": "code",
   "execution_count": 50,
   "id": "2abe90bd-192a-4df3-ab31-fa22f2ca1d40",
   "metadata": {},
   "outputs": [],
   "source": [
    "# -------------------------------------------------------------"
   ]
  },
  {
   "cell_type": "code",
   "execution_count": 51,
   "id": "79983b2c-0877-43f5-a8f7-9ce8f3231a31",
   "metadata": {},
   "outputs": [],
   "source": [
    "tumor_mask_pred = segmented_volume > 0"
   ]
  },
  {
   "cell_type": "code",
   "execution_count": 52,
   "id": "5a906f1f-db02-4830-96f0-c1c571c548f7",
   "metadata": {},
   "outputs": [],
   "source": [
    "num_voxels_pred = np.sum(tumor_mask_pred)"
   ]
  },
  {
   "cell_type": "code",
   "execution_count": 53,
   "id": "94f29b58-87f8-4dfa-a902-9b8a919e8d7c",
   "metadata": {},
   "outputs": [],
   "source": [
    "voxel_volume_pred = voxel_sizes[0] * voxel_sizes[1] * voxel_sizes[2]  # mm³"
   ]
  },
  {
   "cell_type": "code",
   "execution_count": 54,
   "id": "9fb5b108-9dff-45d3-99d8-6660e6ab20fc",
   "metadata": {},
   "outputs": [],
   "source": [
    "tumor_volume_mm3_pred = num_voxels_pred * voxel_volume_pred\n",
    "tumor_volume_cm3_pred = tumor_volume_mm3_pred / 1000  # به cm³"
   ]
  },
  {
   "cell_type": "code",
   "execution_count": 55,
   "id": "927bd198-affb-419d-b27b-c68dbae5ea19",
   "metadata": {},
   "outputs": [
    {
     "name": "stdout",
     "output_type": "stream",
     "text": [
      "تعداد پیکسل‌های تومور: 118394\n",
      "حجم تومور: 129848.00 mm³\n",
      "حجم تومور: 129.85 cm³\n"
     ]
    }
   ],
   "source": [
    "print(f\"تعداد پیکسل‌های تومور: {num_voxels}\")\n",
    "print(f\"حجم تومور: {tumor_volume_mm3_pred:.2f} mm³\")\n",
    "print(f\"حجم تومور: {tumor_volume_cm3_pred:.2f} cm³\")"
   ]
  },
  {
   "cell_type": "markdown",
   "id": "ef50a7f9-88b8-4e96-aa4d-4d85d9a7905c",
   "metadata": {},
   "source": [
    "# حجم دو بعدی"
   ]
  },
  {
   "cell_type": "code",
   "execution_count": 3,
   "id": "13006678-5eca-413b-8cfe-4931df69a04f",
   "metadata": {},
   "outputs": [],
   "source": [
    "# ===== پارامترها =====\n",
    "pixel_spacing_mm = 0.5  # مثلاً هر پیکسل برابر نیم میلی‌متر (0.5mm x 0.5mm)\n",
    "slice_thickness_mm = 5   # ضخامت اسلایس، مثلا ۵ میلی‌متر"
   ]
  },
  {
   "cell_type": "code",
   "execution_count": 4,
   "id": "96fe112d-a67e-4e84-802a-5846bb778523",
   "metadata": {},
   "outputs": [],
   "source": [
    "img_path = 'image_15.png'\n",
    "img = cv2.imread(img_path, cv2.IMREAD_GRAYSCALE)\n",
    "img_resized = cv2.resize(img, (128, 128))\n",
    "img_rgb = np.stack([img_resized]*3, axis=-1)  # (128,128,3)\n",
    "img_rgb = preprocess_input(img_rgb)\n",
    "input_tensor = np.expand_dims(img_rgb, axis=0)  # (1,128,128,3)"
   ]
  },
  {
   "cell_type": "code",
   "execution_count": 51,
   "id": "6c38d648-1d81-481b-bd01-defc27ad5180",
   "metadata": {},
   "outputs": [
    {
     "name": "stdout",
     "output_type": "stream",
     "text": [
      "1/1 [==============================] - 0s 145ms/step\n"
     ]
    }
   ],
   "source": [
    "# ===== پیش‌بینی ماسک =====\n",
    "slice_ = volume[:, :, volume.shape[2]//2 +20]\n",
    "slice_resized = cv2.resize(slice_, (128, 128))\n",
    "slice_rgb = np.stack([slice_resized]*3, axis=-1)  # (128,128,3)\n",
    "slice_rgb = preprocess_input(slice_rgb)\n",
    "input_tensor = np.expand_dims(slice_rgb, axis=0)  # (1,128,128,3)\n",
    "# پیش‌بینی\n",
    "pred = model.predict(input_tensor)[0, :, :, 0]\n",
    "\n",
    "#pred = model.predict(input_tensor)[0, :, :, 0]\n",
    "\n",
    "binary_mask = (pred > 0.5).astype(np.uint8)"
   ]
  },
  {
   "cell_type": "code",
   "execution_count": 52,
   "id": "afcfd33d-06b9-490d-9ce8-77aeef8f33a2",
   "metadata": {},
   "outputs": [],
   "source": [
    "# ===== محاسبه تعداد پیکسل تومور =====\n",
    "tumor_pixels = np.sum(binary_mask)"
   ]
  },
  {
   "cell_type": "code",
   "execution_count": 53,
   "id": "5cd78627-dbc1-413c-8d4c-003d417605ad",
   "metadata": {},
   "outputs": [
    {
     "data": {
      "text/plain": [
       "109"
      ]
     },
     "execution_count": 53,
     "metadata": {},
     "output_type": "execute_result"
    }
   ],
   "source": [
    "tumor_pixels"
   ]
  },
  {
   "cell_type": "code",
   "execution_count": 54,
   "id": "73471e25-aca1-4070-9bef-d59767cd85bc",
   "metadata": {},
   "outputs": [],
   "source": [
    "# ===== محاسبه مساحت (mm^2) =====\n",
    "pixel_area = pixel_spacing_mm ** 2\n",
    "tumor_area_mm2 = tumor_pixels * pixel_area"
   ]
  },
  {
   "cell_type": "code",
   "execution_count": 55,
   "id": "a400b1cc-d078-4a8c-810d-542fc83edd28",
   "metadata": {},
   "outputs": [
    {
     "name": "stdout",
     "output_type": "stream",
     "text": [
      "🧠 حجم تقریبی تومور: 0.14 cm³\n"
     ]
    }
   ],
   "source": [
    "# ===== محاسبه حجم (mm^3) =====\n",
    "tumor_volume_mm3 = tumor_area_mm2 * slice_thickness_mm\n",
    "\n",
    "# ===== تبدیل به سانتی‌متر مکعب =====\n",
    "tumor_volume_cm3 = tumor_volume_mm3 / 1000\n",
    "\n",
    "print(f\"🧠 حجم تقریبی تومور: {tumor_volume_cm3:.2f} cm³\")"
   ]
  },
  {
   "cell_type": "markdown",
   "id": "ab025183-4465-4ed1-a790-fec5708df9ee",
   "metadata": {},
   "source": [
    "# ارزیابی"
   ]
  },
  {
   "cell_type": "code",
   "execution_count": 56,
   "id": "dd630291-9aea-4d90-b431-004f1c0154b5",
   "metadata": {},
   "outputs": [],
   "source": [
    "#img_path = 'mask_15.png'\n",
    "#img_mask = cv2.imread(img_path, cv2.IMREAD_GRAYSCALE)\n",
    "\n",
    "img_mask = seg_data[:, :, seg_data.shape[2]//2 +20]\n",
    "img_resized_mask = cv2.resize(img_mask, (128, 128))"
   ]
  },
  {
   "cell_type": "code",
   "execution_count": 57,
   "id": "729a4d60-7df5-4ebe-a512-6e5ef9616080",
   "metadata": {},
   "outputs": [],
   "source": [
    "# ===== محاسبه تعداد پیکسل تومور =====\n",
    "tumor_pixels_mask = np.sum(img_resized_mask != 0)"
   ]
  },
  {
   "cell_type": "code",
   "execution_count": 58,
   "id": "a58cd1a4-84b9-4716-9206-0889abd42d99",
   "metadata": {},
   "outputs": [
    {
     "data": {
      "text/plain": [
       "104"
      ]
     },
     "execution_count": 58,
     "metadata": {},
     "output_type": "execute_result"
    }
   ],
   "source": [
    "tumor_pixels_mask"
   ]
  },
  {
   "cell_type": "code",
   "execution_count": 59,
   "id": "cef427e3-d94e-402f-a2cb-306e66d4ddca",
   "metadata": {},
   "outputs": [],
   "source": [
    "# ===== محاسبه مساحت (mm^2) =====\n",
    "pixel_area = pixel_spacing_mm ** 2\n",
    "tumor_area_mm2_mask = tumor_pixels_mask * pixel_area"
   ]
  },
  {
   "cell_type": "code",
   "execution_count": 60,
   "id": "2c0f3100-bf5a-433a-ac7d-02a08e0fe8b4",
   "metadata": {},
   "outputs": [
    {
     "name": "stdout",
     "output_type": "stream",
     "text": [
      "🧠 حجم تقریبی تومور: 0.13 cm³\n"
     ]
    }
   ],
   "source": [
    "# ===== محاسبه حجم (mm^3) =====\n",
    "tumor_volume_mm3_mask = tumor_area_mm2_mask * slice_thickness_mm\n",
    "\n",
    "# ===== تبدیل به سانتی‌متر مکعب =====\n",
    "tumor_volume_cm3_mask = tumor_volume_mm3_mask / 1000\n",
    "\n",
    "print(f\"🧠 حجم تقریبی تومور: {tumor_volume_cm3_mask:.2f} cm³\")"
   ]
  },
  {
   "cell_type": "code",
   "execution_count": 61,
   "id": "1a6ede3a-bdfc-495a-a785-b10332676199",
   "metadata": {},
   "outputs": [
    {
     "data": {
      "text/plain": [
       "Text(0.5, 1.0, 'Predict : 0.14')"
      ]
     },
     "execution_count": 61,
     "metadata": {},
     "output_type": "execute_result"
    },
    {
     "data": {
      "image/png": "[encoded data removed]",
      "text/plain": [
       "<Figure size 1200x800 with 2 Axes>"
      ]
     },
     "metadata": {},
     "output_type": "display_data"
    }
   ],
   "source": [
    "fig, ax = plt.subplots(1,2, figsize=(12,8))\n",
    "\n",
    "ax[0].imshow(binary_mask, cmap='gray')\n",
    "ax[0].set_title(f'Orginal : {tumor_volume_cm3_mask:.2f}')\n",
    "\n",
    "ax[1].imshow(img_resized_mask, cmap='gray')\n",
    "ax[1].set_title(f'Predict : {tumor_volume_cm3:.2f}')"
   ]
  },
  {
   "cell_type": "code",
   "execution_count": null,
   "id": "023ca3fb-22b1-4579-9273-2ab8034891e1",
   "metadata": {},
   "outputs": [],
   "source": []
  }
 ],
 "metadata": {
  "kernelspec": {
   "display_name": "Python 3 (ipykernel)",
   "language": "python",
   "name": "python3"
  },
  "language_info": {
   "codemirror_mode": {
    "name": "ipython",
    "version": 3
   },
   "file_extension": ".py",
   "mimetype": "text/x-python",
   "name": "python",
   "nbconvert_exporter": "python",
   "pygments_lexer": "ipython3",
   "version": "3.10.9"
  }
 },
 "nbformat": 4,
 "nbformat_minor": 5
}
